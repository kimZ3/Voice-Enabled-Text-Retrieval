{
 "cells": [
  {
   "cell_type": "markdown",
   "metadata": {
    "id": "pUP4xhhs6Hz_"
   },
   "source": [
    "1 Voice to text:SpeechRecognition \n",
    "2 Send text to openai(or other LLM)\n",
    "3 Retrieve text from openai and play it as a voice message:pyttsx3\n"
   ]
  },
  {
   "cell_type": "code",
   "execution_count": 5,
   "metadata": {
    "colab": {
     "base_uri": "https://localhost:8080/"
    },
    "id": "6SWYHHu57J_N",
    "outputId": "f697b43f-5e02-46c4-a626-09a9e75d2bfc"
   },
   "outputs": [
    {
     "name": "stdout",
     "output_type": "stream",
     "text": [
      "Collecting pyttsx3\n",
      "  Downloading pyttsx3-2.98-py3-none-any.whl (34 kB)\n",
      "Requirement already satisfied: pywin32 in c:\\users\\16784\\anaconda3\\lib\\site-packages (from pyttsx3) (302)\n",
      "Collecting pypiwin32\n",
      "  Using cached pypiwin32-223-py3-none-any.whl (1.7 kB)\n",
      "Requirement already satisfied: comtypes in c:\\users\\16784\\anaconda3\\lib\\site-packages (from pyttsx3) (1.1.10)\n",
      "Installing collected packages: pypiwin32, pyttsx3\n",
      "Successfully installed pypiwin32-223 pyttsx3-2.98\n"
     ]
    }
   ],
   "source": [
    "#!pip install pyttsx3/SpeechRecognition/openai"
   ]
  },
  {
   "cell_type": "code",
   "execution_count": 7,
   "metadata": {
    "colab": {
     "base_uri": "https://localhost:8080/",
     "height": 450
    },
    "id": "K9_Sh-RfCRtd",
    "outputId": "5db7a2a3-a9d6-4d6f-b0ab-63bac4d1ff9e"
   },
   "outputs": [],
   "source": [
    "import speech_recognition as sr\n",
    "import pyttsx3\n",
    "import openai\n",
    "\n",
    "# reading OpemAI API Key from configuration file\n",
    "openai.api_key = \"put your api key here\"\n",
    "engine = pyttsx3.init()"
   ]
  },
  {
   "cell_type": "code",
   "execution_count": 3,
   "metadata": {
    "id": "x-EX2OLW7Jtl"
   },
   "outputs": [],
   "source": [
    "def extract_text_from_voice():\n",
    "  speech_recognition = sr.Recognizer()\n",
    "  with sr.Microphone() as source:\n",
    "    audio = speech_recognition.listen(source, phrase_time_limit=2)\n",
    "    audio_text = \"\"\n",
    "    try:\n",
    "      audio_text = speech_recognition.recognize_google(audio) # Quality needs improve\n",
    "      print(audio_text)\n",
    "    except Exception as e:\n",
    "      print(\"Exception:\" + str(e))\n",
    "    return audio_text"
   ]
  },
  {
   "cell_type": "markdown",
   "metadata": {
    "id": "SMf_qzSDG8mu"
   },
   "source": [
    "To install espeak on ubuntu or any of the debian based OS, enter the following command on the terminal:\n",
    "sudo apt install espeak\n",
    "To use pyttsx3 python library, install the following using terminal:\n",
    "pip3 install pyttsx3 \n",
    "sudo apt install espeak \n",
    "pip3 install pyaudio\n",
    " or use \n",
    " sudo apt install python3-pyaudio"
   ]
  },
  {
   "cell_type": "code",
   "execution_count": null,
   "metadata": {
    "colab": {
     "base_uri": "https://localhost:8080/",
     "height": 450
    },
    "id": "FR5BB6UF8wlU",
    "outputId": "cf982453-6a42-42d6-f741-490401323645"
   },
   "outputs": [],
   "source": [
    "# I want Chatbot to behave like a model risk management officer\n",
    "messages = [{\"role\": \"system\", \"content\": \"You are a assistant of a model risk manager in Blank bank,\\\n",
    "             who is going to answer the questions from FDIC regulators.\"}]# custom the promp engineering\n",
    "\n",
    "def interact_with_ChatGPT():\n",
    "  global messages\n",
    "\n",
    "  # I want this code to run indefinitely, until any of the parties say Thank You or bye\n",
    "  while True:\n",
    "    print(\"Please say something to check it out.\")\n",
    "    user_text = extract_text_from_voice()\n",
    "    messages.append({\"role\": \"user\", \"content\": user_text})\n",
    "    response = openai.chat.completion.create(model=\"gpt-3.5-turbo\", messages = messages)# changed to be llamaIndex model\n",
    "    reply = response.choices[0].message.content\n",
    "    engine.say(reply)\n",
    "    engine.runAndWait()\n",
    "    messages.append({\"role\": \"assistant\", \"content\":reply})\n",
    "    if \"Thank you for your time, bye\" in reply or \"Thank you, bye\" in user_text:\n",
    "        break\n",
    "\n",
    "# Time to call the function\n",
    "print(\"Say something, please…\")\n",
    "interact_with_ChatGPT()"
   ]
  },
  {
   "cell_type": "code",
   "execution_count": 9,
   "metadata": {
    "collapsed": true,
    "id": "Yb68lgFD8wem"
   },
   "outputs": [
    {
     "name": "stdout",
     "output_type": "stream",
     "text": [
      "say sth\n",
      "please receive my message\n"
     ]
    },
    {
     "ename": "AttributeError",
     "evalue": "module 'openai' has no attribute 'chat'",
     "output_type": "error",
     "traceback": [
      "\u001b[1;31m---------------------------------------------------------------------------\u001b[0m",
      "\u001b[1;31mAttributeError\u001b[0m                            Traceback (most recent call last)",
      "\u001b[1;32m~\\AppData\\Local\\Temp\\ipykernel_11196\\2335893222.py\u001b[0m in \u001b[0;36m<module>\u001b[1;34m\u001b[0m\n\u001b[1;32m----> 1\u001b[1;33m \u001b[0minteract_with_ChatGPT\u001b[0m\u001b[1;33m(\u001b[0m\u001b[1;33m)\u001b[0m\u001b[1;33m\u001b[0m\u001b[1;33m\u001b[0m\u001b[0m\n\u001b[0m",
      "\u001b[1;32m~\\AppData\\Local\\Temp\\ipykernel_11196\\1528386986.py\u001b[0m in \u001b[0;36minteract_with_ChatGPT\u001b[1;34m()\u001b[0m\n\u001b[0;32m     12\u001b[0m     \u001b[0muser_text\u001b[0m \u001b[1;33m=\u001b[0m \u001b[0mextract_text_from_voice\u001b[0m\u001b[1;33m(\u001b[0m\u001b[1;33m)\u001b[0m\u001b[1;33m\u001b[0m\u001b[1;33m\u001b[0m\u001b[0m\n\u001b[0;32m     13\u001b[0m     \u001b[0mmessages\u001b[0m\u001b[1;33m.\u001b[0m\u001b[0mappend\u001b[0m\u001b[1;33m(\u001b[0m\u001b[1;33m{\u001b[0m\u001b[1;34m\"role\"\u001b[0m\u001b[1;33m:\u001b[0m \u001b[1;34m\"user\"\u001b[0m\u001b[1;33m,\u001b[0m \u001b[1;34m\"content\"\u001b[0m\u001b[1;33m:\u001b[0m \u001b[0muser_text\u001b[0m\u001b[1;33m}\u001b[0m\u001b[1;33m)\u001b[0m\u001b[1;33m\u001b[0m\u001b[1;33m\u001b[0m\u001b[0m\n\u001b[1;32m---> 14\u001b[1;33m     \u001b[0mresponse\u001b[0m \u001b[1;33m=\u001b[0m \u001b[0mopenai\u001b[0m\u001b[1;33m.\u001b[0m\u001b[0mchat\u001b[0m\u001b[1;33m.\u001b[0m\u001b[0mcompletion\u001b[0m\u001b[1;33m.\u001b[0m\u001b[0mcreate\u001b[0m\u001b[1;33m(\u001b[0m\u001b[0mmodel\u001b[0m\u001b[1;33m=\u001b[0m\u001b[1;34m\"gpt-3.5-turbo\"\u001b[0m\u001b[1;33m,\u001b[0m \u001b[0mmessages\u001b[0m \u001b[1;33m=\u001b[0m \u001b[0mmessages\u001b[0m\u001b[1;33m)\u001b[0m\u001b[1;31m# changed to be llamaIndex model\u001b[0m\u001b[1;33m\u001b[0m\u001b[1;33m\u001b[0m\u001b[0m\n\u001b[0m\u001b[0;32m     15\u001b[0m     \u001b[0mreply\u001b[0m \u001b[1;33m=\u001b[0m \u001b[0mresponse\u001b[0m\u001b[1;33m.\u001b[0m\u001b[0mchoices\u001b[0m\u001b[1;33m[\u001b[0m\u001b[1;36m0\u001b[0m\u001b[1;33m]\u001b[0m\u001b[1;33m.\u001b[0m\u001b[0mmessage\u001b[0m\u001b[1;33m.\u001b[0m\u001b[0mcontent\u001b[0m\u001b[1;33m\u001b[0m\u001b[1;33m\u001b[0m\u001b[0m\n\u001b[0;32m     16\u001b[0m     \u001b[0mengine\u001b[0m\u001b[1;33m.\u001b[0m\u001b[0msay\u001b[0m\u001b[1;33m(\u001b[0m\u001b[0mreply\u001b[0m\u001b[1;33m)\u001b[0m\u001b[1;33m\u001b[0m\u001b[1;33m\u001b[0m\u001b[0m\n",
      "\u001b[1;31mAttributeError\u001b[0m: module 'openai' has no attribute 'chat'"
     ]
    }
   ],
   "source": [
    "#test\n",
    "interact_with_ChatGPT()"
   ]
  },
  {
   "cell_type": "markdown",
   "metadata": {
    "id": "sixfaEiD8wa7"
   },
   "source": [
    "# End"
   ]
  }
 ],
 "metadata": {
  "colab": {
   "provenance": []
  },
  "kernelspec": {
   "display_name": "Python 3 (ipykernel)",
   "language": "python",
   "name": "python3"
  },
  "language_info": {
   "codemirror_mode": {
    "name": "ipython",
    "version": 3
   },
   "file_extension": ".py",
   "mimetype": "text/x-python",
   "name": "python",
   "nbconvert_exporter": "python",
   "pygments_lexer": "ipython3",
   "version": "3.9.13"
  }
 },
 "nbformat": 4,
 "nbformat_minor": 1
}
